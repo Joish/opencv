{
 "cells": [
  {
   "cell_type": "markdown",
   "metadata": {},
   "source": [
    "## Second big thing - Identifiy Contours by Shape"
   ]
  },
  {
   "cell_type": "code",
   "execution_count": 7,
   "metadata": {},
   "outputs": [],
   "source": [
    "# define a function to caluclute the center using cv2.moments\n",
    "def calculate_center(countour):\n",
    "    M = cv2.moments(countour)\n",
    "    cx = int(M['m10'] / M['m00'])\n",
    "    cy = int(M['m01'] / M['m00'])\n",
    "    \n",
    "    return cx,cy"
   ]
  },
  {
   "cell_type": "code",
   "execution_count": 8,
   "metadata": {},
   "outputs": [],
   "source": [
    "# define a function to identify shapes\n",
    "def identify_shapes(shape_name,cnt):\n",
    "    \n",
    "    # draw counter \n",
    "    cv2.drawContours(image,[cnt],0,(0,255,0),-1)\n",
    "\n",
    "    # Find contour center to place text at the center    \n",
    "    cx, cy = calculate_center(cnt)\n",
    "    \n",
    "    # Put the text on the Image in center \n",
    "    cv2.putText(image, shape_name, (cx-50, cy), cv2.FONT_HERSHEY_SIMPLEX, 1, (0, 0, 0), 1)\n",
    "    \n",
    "    cv2.imshow('Identifying Shapes',image)\n",
    "    cv2.waitKey(0)"
   ]
  },
  {
   "cell_type": "code",
   "execution_count": 9,
   "metadata": {},
   "outputs": [
    {
     "name": "stdout",
     "output_type": "stream",
     "text": [
      "139\n",
      "1\n"
     ]
    }
   ],
   "source": [
    "import numpy as np\n",
    "import cv2\n",
    "\n",
    "# Load and then gray scale image\n",
    "image = cv2.imread('../images/someshapes.jpg')\n",
    "gray = cv2.cvtColor(image, cv2.COLOR_BGR2GRAY)\n",
    "\n",
    "cv2.imshow('Identifying Shapes',image)\n",
    "cv2.waitKey(0)\n",
    "\n",
    "ret, thresh = cv2.threshold(gray, 127, 255, 1)\n",
    "\n",
    "# Extract Contours with retrevial mtd = cv2.RETR_LIST and using cv2.CHAIN_APPROX_NONE  \n",
    "_, contours, hierarchy = cv2.findContours(thresh.copy(), cv2.RETR_LIST, cv2.CHAIN_APPROX_NONE)\n",
    "\n",
    "for cnt in contours:\n",
    "    \n",
    "    # Get approximate polygons with accuracy 0.01\n",
    "    approx = cv2.approxPolyDP(cnt, 0.01*cv2.arcLength(cnt,True),True)\n",
    "    \n",
    "    \"\"\"\n",
    "        *********** CONDITION ************\n",
    "        if ->\n",
    "            len(approx) == 3\n",
    "                Shape = Triangle\n",
    "            len(approx) == 4\n",
    "                use cv2.boundingRect to get x,y and width and height  with respect to x,y\n",
    "                if ->\n",
    "                   w and h is very close to each other\n",
    "                      Shape = Square\n",
    "                else ->\n",
    "                    Shape = Rectangle\n",
    "                    \n",
    "            len(approx) == 10\n",
    "                Shape = Star\n",
    "            len(approx) >= 15\n",
    "                Shape = Circle\n",
    "    \"\"\"\n",
    "    \n",
    "    if len(approx) == 3:\n",
    "        identify_shapes(\"Triangle\",cnt)\n",
    "    \n",
    "    elif len(approx) == 4:\n",
    "        # use cv2.boundingRect to get x,y and width and height  with respect to x,y\n",
    "        x,y,w,h = cv2.boundingRect(cnt)\n",
    "        print (abs(w-h))\n",
    "        \n",
    "        if abs(w-h) <= 5:\n",
    "            identify_shapes(\"Square\",cnt)\n",
    "        else:\n",
    "            identify_shapes(\"Rectangle\",cnt)\n",
    "            \n",
    "    elif len(approx) == 10:\n",
    "        identify_shapes(\"Star\",cnt)\n",
    "        \n",
    "    elif len(approx) >= 15:\n",
    "        identify_shapes(\"Circle\",cnt)\n",
    "    \n",
    "cv2.destroyAllWindows()"
   ]
  },
  {
   "cell_type": "code",
   "execution_count": null,
   "metadata": {},
   "outputs": [],
   "source": []
  }
 ],
 "metadata": {
  "kernelspec": {
   "display_name": "Python 3",
   "language": "python",
   "name": "python3"
  },
  "language_info": {
   "codemirror_mode": {
    "name": "ipython",
    "version": 3
   },
   "file_extension": ".py",
   "mimetype": "text/x-python",
   "name": "python",
   "nbconvert_exporter": "python",
   "pygments_lexer": "ipython3",
   "version": "3.6.5"
  }
 },
 "nbformat": 4,
 "nbformat_minor": 1
}
