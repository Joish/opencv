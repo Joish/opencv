{
 "cells": [
  {
   "cell_type": "markdown",
   "metadata": {},
   "source": [
    "## Second big thing - Identifiy Contours by Shape"
   ]
  },
  {
   "cell_type": "code",
   "execution_count": 17,
   "metadata": {},
   "outputs": [],
   "source": [
    "# define a function to caluclute the center using cv2.moments\n",
    "def calculate_center(countour):\n",
    "    \n",
    "    \n",
    "    return cx,cy"
   ]
  },
  {
   "cell_type": "code",
   "execution_count": 18,
   "metadata": {},
   "outputs": [],
   "source": [
    "# define a function to identify shapes\n",
    "def identify_shapes(shape_name,cnt):\n",
    "    \n",
    "    # draw counter \n",
    "    \n",
    "\n",
    "    # Find contour center to place text at the center    \n",
    "    cx, cy = calculate_center(cnt)\n",
    "    \n",
    "    # Put the text on the Image in center using cv2.putText with font cv2.FONT_HERSHEY_SIMPLEX\n",
    "    \n",
    "    \n",
    "    cv2.imshow('Identifying Shapes',image)\n",
    "    cv2.waitKey(0)"
   ]
  },
  {
   "cell_type": "code",
   "execution_count": 19,
   "metadata": {},
   "outputs": [
    {
     "name": "stdout",
     "output_type": "stream",
     "text": [
      "139\n",
      "1\n"
     ]
    }
   ],
   "source": [
    "import numpy as np\n",
    "import cv2\n",
    "\n",
    "# Load and then gray scale image\n",
    "\n",
    "\n",
    "cv2.imshow('Identifying Shapes',image)\n",
    "cv2.waitKey(0)\n",
    "\n",
    "\n",
    "# Extract Contours with retrevial mtd = cv2.RETR_LIST and using cv2.CHAIN_APPROX_NONE  \n",
    "\n",
    "\n",
    "for cnt in contours:\n",
    "    \n",
    "    # Get approximate polygons with accuracy 0.01\n",
    "    approx = cv2.approxPolyDP(cnt, 0.01*cv2.arcLength(cnt,True),True)\n",
    "    \n",
    "    \"\"\"\n",
    "        *********** CONDITION ************\n",
    "        if ->\n",
    "            len(approx) == 3\n",
    "                Shape = Triangle\n",
    "            len(approx) == 4\n",
    "                use cv2.boundingRect to get x,y and width and height  with respect to x,y\n",
    "                if ->\n",
    "                   w and h is very close to each other\n",
    "                      Shape = Square\n",
    "                else ->\n",
    "                    Shape = Rectangle\n",
    "                    \n",
    "            len(approx) == 10\n",
    "                Shape = Star\n",
    "            len(approx) >= 15\n",
    "                Shape = Circle\n",
    "    \"\"\"\n",
    "    \n",
    "    if len(approx) == 3:\n",
    "        identify_shapes(\"<respective paramns>\")\n",
    "    \n",
    "    elif len(approx) == 4:\n",
    "        # use cv2.boundingRect to get x,y and width and height  with respect to x,y\n",
    "        \n",
    "        # w and h is very close to each other\n",
    "        if  \"<w and h is very close to each other>\" :\n",
    "            identify_shapes(\"<respective paramns>\")\n",
    "        else:\n",
    "            identify_shapes(\"<respective paramns>\")\n",
    "            \n",
    "    elif len(approx) == 10:\n",
    "        identify_shapes(\"<respective paramns>\")\n",
    "        \n",
    "    elif len(approx) >= 15:\n",
    "        identify_shapes(\"<respective paramns>\")\n",
    "    \n",
    "cv2.destroyAllWindows()"
   ]
  },
  {
   "cell_type": "code",
   "execution_count": null,
   "metadata": {},
   "outputs": [],
   "source": []
  }
 ],
 "metadata": {
  "kernelspec": {
   "display_name": "Python 3",
   "language": "python",
   "name": "python3"
  },
  "language_info": {
   "codemirror_mode": {
    "name": "ipython",
    "version": 3
   },
   "file_extension": ".py",
   "mimetype": "text/x-python",
   "name": "python",
   "nbconvert_exporter": "python",
   "pygments_lexer": "ipython3",
   "version": "3.6.5"
  }
 },
 "nbformat": 4,
 "nbformat_minor": 1
}
