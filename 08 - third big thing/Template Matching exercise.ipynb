{
 "cells": [
  {
   "cell_type": "code",
   "execution_count": null,
   "metadata": {},
   "outputs": [],
   "source": [
    "import cv2\n",
    "import numpy as np\n",
    "\n",
    "# Load input image and convert to grayscale\n",
    "image = cv2.imread('../images/WaldoBeach.jpg')\n",
    "cv2.imshow('', image)\n",
    "cv2.waitKey(0)\n",
    "gray = cv2.cvtColor(image, cv2.COLOR_BGR2GRAY)\n",
    "\n",
    "# Load Template image\n",
    "template = cv2.imread('../images/waldo.jpg',0)\n",
    "\n",
    "# use cv2.matchTemplate with matching methord cv2.TM_CCOEFF\n",
    "\n",
    "\n",
    "# use cv2.minMaxLoc to get the bounding box\n",
    "\n",
    "\n",
    "#Create Bounding Box\n",
    "\n",
    "\n",
    "# draw the rectagle usnig cv2.rectangle\n",
    "\n",
    "\n",
    "cv2.imshow('Found', image)\n",
    "cv2.waitKey(0)\n",
    "cv2.destroyAllWindows()"
   ]
  }
 ],
 "metadata": {
  "kernelspec": {
   "display_name": "Python 3",
   "language": "python",
   "name": "python3"
  },
  "language_info": {
   "codemirror_mode": {
    "name": "ipython",
    "version": 3
   },
   "file_extension": ".py",
   "mimetype": "text/x-python",
   "name": "python",
   "nbconvert_exporter": "python",
   "pygments_lexer": "ipython3",
   "version": "3.6.5"
  }
 },
 "nbformat": 4,
 "nbformat_minor": 2
}
